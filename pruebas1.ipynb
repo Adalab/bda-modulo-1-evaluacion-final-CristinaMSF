{
 "cells": [
  {
   "cell_type": "code",
   "execution_count": 1,
   "metadata": {},
   "outputs": [],
   "source": [
    "class TiendaOnline: \n",
    "\n",
    "    def __init__(self):\n",
    "        #Iniciamos la tienda con un inventario vacío. Al principio deberá ser una lista vacía. Ejemplo de como debería ser:\n",
    "\n",
    "        self.inventario = []\n",
    "        self.ventas_totales = 0    #Un atributo para llevar un registro de las ventas totales de la tienda. Inicializado con valor 0.\n",
    "        \n",
    "        # BONUS\n",
    "        self.clientes = {}\n",
    "\n",
    "    def agregar_producto(self, producto, nombre, precio, cantidad):\n",
    "        #Agrega un producto al inventario o actualiza su cantidad si ya existe\n",
    "\n",
    "        for producto in self.inventario:\n",
    "            if producto['nombre'] == nombre:  # Si el producto ya existe, actualizamos su cantidad\n",
    "                producto['cantidad'] += cantidad\n",
    "                print(f\"Se han agregado {cantidad} unidades más de {nombre}. Ahora hay {producto['cantidad']}.\")\n",
    "                return\n",
    "\n",
    "        \n",
    "             #ya que deseas agregar el producto solo una vez.\n",
    "        nuevo_producto = {'nombre': nombre, 'precio': precio, 'cantidad': cantidad}\n",
    "        self.inventario.append(nuevo_producto)\n",
    "        print(f\"Producto {nombre} agregado correctamente.\")\n",
    "\n",
    "\n",
    "    def ver_inventario(self):\n",
    "         #Muestra el inventario de la tienda\n",
    "        print(\"\\nInventario de la tienda:\")\n",
    "        \n",
    "        for producto in self.inventario:\n",
    "            print('Nombre:',producto['nombre'],'Precio:', producto['precio'],'Cantidad:',producto['cantidad'])\n",
    "            \n",
    "    \n",
    "    def buscar_producto(self, nombre): \n",
    "        #Busca un producto por su nombre y muestra sus detalles si existe.\n",
    "\n",
    "        for producto in self.inventario:\n",
    "            \n",
    "            if producto['nombre'] == nombre:   #Compara los nombres de los productos con el nombre proporcionado\n",
    "               #Si se encuentra el producto, imprime sus detalles.\n",
    "              print(f\"\\nProducto encontrado: Nombre: {producto['nombre']}, Precio: ${producto['precio']}, Cantidad: {producto['cantidad']}\")\n",
    "              return\n",
    "\n",
    "         #sino digo que no esta\n",
    "      \n",
    "        print(f\"\\nEl producto '{nombre}' no está en el inventario.\")\n",
    "\n",
    "    def actualizar_stock(self, nombre, cantidad):\n",
    "        \n",
    "        #Actualiza el stock de un producto en el inventario. Debe recibir el nombre del producto y la cantidad a agregar o quitar como parámetros.\n",
    "        #solo sumo por lo que si tengo que si mi nuevo recuento es 1 camisa y tengo 10 en el original, tengo que poner -9\n",
    "        for producto in self.inventario:\n",
    "            if producto['nombre'] == nombre:\n",
    "               producto['cantidad'] += cantidad    \n",
    "               print(f\"Stock actualizado para '{nombre}'. Nueva cantidad: {producto['cantidad']}\")    # Actualiza el stock\n",
    "               return \n",
    "                 \n",
    "        print(f\"El producto '{nombre}' no está en el inventario.\")\n",
    "\n",
    "\n",
    "    def eliminar_producto(self, nombre):\n",
    "        #Busco el producto por nombre con un for, bucando el nombre del producto en nombres, como antes.\n",
    "        #Elimino el producto del inventario si existe yendo al self y con un remove.\n",
    "        for producto in self.inventario:\n",
    "            if producto['nombre'] == nombre:\n",
    "               self.inventario.remove(producto)\n",
    "               print(f\"{nombre}, ha sido eliminado del inventario.\")    #Actualiza el inventario\n",
    "               return \n",
    "                 \n",
    "        print(f\"El producto '{nombre}' no está en el inventario.\")    #Sino está te lo hago saber\n",
    "\n",
    "    def calcular_valor_inventario(self):\n",
    "        total = sum([                                       #Hago una suma total del precio y la cantidad metiendo el for dentro\n",
    "            producto['precio']*producto['cantidad']\n",
    "            for producto in self.inventario\n",
    "        ])\n",
    "        print(f'El valor total del inventario es: {total} €.')\n",
    "\n",
    "    ##BONUS\n",
    "\n",
    "    def agregar_cliente(self, nombre, email):\n",
    "              #Agrega un nuevo cliente al registro de clientes. Debe recibir el nombre y el correo electrónico del cliente como parámetros.\n",
    "              #Agrega un cliente al diccionario de clientes con su nombre y correo electrónico.\n",
    "        if nombre in self.clientes:\n",
    "            print (f'el cliente con nombre {nombre} y email {email} ya existe.')\n",
    "            return\n",
    "        \n",
    "        self.clientes.update({nombre: {'email': email, 'compras': []}})\n",
    "        print(f'{nombre} agregado.')\n",
    "\n",
    "    ##BONUS\n",
    "\n",
    "    def ver_clientes(self):\n",
    "          #Recorre la base de datos de clientes y muestra solo (nombre y correo electrónico).\n",
    "\n",
    "        for nombre, info in self.clientes.items():\n",
    "            print(f\"Nombre: {nombre}, Email: {info['email']}\")\n",
    "                \n",
    "                #mejora solo muestra compras si hay alguna \n",
    "            if info['compras']:  \n",
    "                print(f\"Compras: {info['compras']}\")\n",
    "\n",
    "    \n",
    "        \n",
    "        \n",
    "       \n",
    "\n",
    "         \n",
    "    "
   ]
  },
  {
   "cell_type": "code",
   "execution_count": 2,
   "metadata": {},
   "outputs": [
    {
     "name": "stdout",
     "output_type": "stream",
     "text": [
      "Producto camisas agregado correctamente.\n"
     ]
    }
   ],
   "source": [
    "tienda = TiendaOnline()\n",
    "tienda.agregar_producto(1, 'camisas', 20, 5)"
   ]
  },
  {
   "cell_type": "code",
   "execution_count": 3,
   "metadata": {},
   "outputs": [
    {
     "name": "stdout",
     "output_type": "stream",
     "text": [
      "Producto pantalones agregado correctamente.\n"
     ]
    }
   ],
   "source": [
    "tienda.agregar_producto(2, 'pantalones', 25, 10)\n"
   ]
  },
  {
   "cell_type": "code",
   "execution_count": 4,
   "metadata": {},
   "outputs": [
    {
     "name": "stdout",
     "output_type": "stream",
     "text": [
      "Producto calzoncillos agregado correctamente.\n"
     ]
    }
   ],
   "source": [
    "tienda.agregar_producto(3, 'calzoncillos', 15, 10)\n"
   ]
  },
  {
   "cell_type": "code",
   "execution_count": 5,
   "metadata": {},
   "outputs": [
    {
     "data": {
      "text/plain": [
       "[{'nombre': 'camisas', 'precio': 20, 'cantidad': 5},\n",
       " {'nombre': 'pantalones', 'precio': 25, 'cantidad': 10},\n",
       " {'nombre': 'calzoncillos', 'precio': 15, 'cantidad': 10}]"
      ]
     },
     "execution_count": 5,
     "metadata": {},
     "output_type": "execute_result"
    }
   ],
   "source": [
    "tienda.inventario"
   ]
  },
  {
   "cell_type": "code",
   "execution_count": 6,
   "metadata": {},
   "outputs": [
    {
     "name": "stdout",
     "output_type": "stream",
     "text": [
      "\n",
      "Inventario de la tienda:\n",
      "Nombre: camisas Precio: 20 Cantidad: 5\n",
      "Nombre: pantalones Precio: 25 Cantidad: 10\n",
      "Nombre: calzoncillos Precio: 15 Cantidad: 10\n"
     ]
    }
   ],
   "source": [
    "tienda.ver_inventario()"
   ]
  },
  {
   "cell_type": "code",
   "execution_count": 7,
   "metadata": {},
   "outputs": [
    {
     "name": "stdout",
     "output_type": "stream",
     "text": [
      "\n",
      "Producto encontrado: Nombre: camisas, Precio: $20, Cantidad: 5\n"
     ]
    }
   ],
   "source": [
    "tienda.buscar_producto(\"camisas\")\n"
   ]
  },
  {
   "cell_type": "code",
   "execution_count": 8,
   "metadata": {},
   "outputs": [
    {
     "name": "stdout",
     "output_type": "stream",
     "text": [
      "\n",
      "El producto 'chaquetas' no está en el inventario.\n"
     ]
    }
   ],
   "source": [
    "tienda.buscar_producto(\"chaquetas\")"
   ]
  },
  {
   "cell_type": "code",
   "execution_count": 9,
   "metadata": {},
   "outputs": [
    {
     "name": "stdout",
     "output_type": "stream",
     "text": [
      "Stock actualizado para 'calzoncillos'. Nueva cantidad: 20\n"
     ]
    }
   ],
   "source": [
    "tienda.actualizar_stock('calzoncillos', 10)"
   ]
  },
  {
   "cell_type": "code",
   "execution_count": 10,
   "metadata": {},
   "outputs": [
    {
     "name": "stdout",
     "output_type": "stream",
     "text": [
      "El producto 'blusas' no está en el inventario.\n"
     ]
    }
   ],
   "source": [
    "tienda.actualizar_stock('blusas', 10)"
   ]
  },
  {
   "cell_type": "code",
   "execution_count": 11,
   "metadata": {},
   "outputs": [
    {
     "data": {
      "text/plain": [
       "[{'nombre': 'camisas', 'precio': 20, 'cantidad': 5},\n",
       " {'nombre': 'pantalones', 'precio': 25, 'cantidad': 10},\n",
       " {'nombre': 'calzoncillos', 'precio': 15, 'cantidad': 20}]"
      ]
     },
     "execution_count": 11,
     "metadata": {},
     "output_type": "execute_result"
    }
   ],
   "source": [
    "tienda.inventario"
   ]
  },
  {
   "cell_type": "code",
   "execution_count": 12,
   "metadata": {},
   "outputs": [
    {
     "name": "stdout",
     "output_type": "stream",
     "text": [
      "\n",
      "Inventario de la tienda:\n",
      "Nombre: camisas Precio: 20 Cantidad: 5\n",
      "Nombre: pantalones Precio: 25 Cantidad: 10\n",
      "Nombre: calzoncillos Precio: 15 Cantidad: 20\n"
     ]
    }
   ],
   "source": [
    "tienda.ver_inventario()"
   ]
  },
  {
   "cell_type": "code",
   "execution_count": 13,
   "metadata": {},
   "outputs": [
    {
     "name": "stdout",
     "output_type": "stream",
     "text": [
      "El producto 'chaquetas' no está en el inventario.\n"
     ]
    }
   ],
   "source": [
    "tienda.actualizar_stock('chaquetas', 10)"
   ]
  },
  {
   "cell_type": "code",
   "execution_count": 14,
   "metadata": {},
   "outputs": [
    {
     "name": "stdout",
     "output_type": "stream",
     "text": [
      "Producto blusas agregado correctamente.\n"
     ]
    }
   ],
   "source": [
    "tienda.agregar_producto(4, 'blusas', 10, 5)"
   ]
  },
  {
   "cell_type": "code",
   "execution_count": 15,
   "metadata": {},
   "outputs": [
    {
     "data": {
      "text/plain": [
       "[{'nombre': 'camisas', 'precio': 20, 'cantidad': 5},\n",
       " {'nombre': 'pantalones', 'precio': 25, 'cantidad': 10},\n",
       " {'nombre': 'calzoncillos', 'precio': 15, 'cantidad': 20},\n",
       " {'nombre': 'blusas', 'precio': 10, 'cantidad': 5}]"
      ]
     },
     "execution_count": 15,
     "metadata": {},
     "output_type": "execute_result"
    }
   ],
   "source": [
    "tienda.inventario"
   ]
  },
  {
   "cell_type": "code",
   "execution_count": 16,
   "metadata": {},
   "outputs": [
    {
     "name": "stdout",
     "output_type": "stream",
     "text": [
      "Stock actualizado para 'camisas'. Nueva cantidad: 4\n",
      "Has vendido 1 camisa por eso pones -1, para que te de 4. porque has contado 4\n"
     ]
    }
   ],
   "source": [
    "tienda.actualizar_stock('camisas', -1)\n",
    "print('Has vendido 1 camisa por eso pones -1, para que te de 4. porque has contado 4')"
   ]
  },
  {
   "cell_type": "code",
   "execution_count": 17,
   "metadata": {},
   "outputs": [
    {
     "data": {
      "text/plain": [
       "[{'nombre': 'camisas', 'precio': 20, 'cantidad': 4},\n",
       " {'nombre': 'pantalones', 'precio': 25, 'cantidad': 10},\n",
       " {'nombre': 'calzoncillos', 'precio': 15, 'cantidad': 20},\n",
       " {'nombre': 'blusas', 'precio': 10, 'cantidad': 5}]"
      ]
     },
     "execution_count": 17,
     "metadata": {},
     "output_type": "execute_result"
    }
   ],
   "source": [
    "tienda.inventario"
   ]
  },
  {
   "cell_type": "code",
   "execution_count": 18,
   "metadata": {},
   "outputs": [
    {
     "name": "stdout",
     "output_type": "stream",
     "text": [
      "Stock actualizado para 'camisas'. Nueva cantidad: 5\n"
     ]
    }
   ],
   "source": [
    "tienda.actualizar_stock('camisas', 1)"
   ]
  },
  {
   "cell_type": "code",
   "execution_count": 19,
   "metadata": {},
   "outputs": [
    {
     "data": {
      "text/plain": [
       "[{'nombre': 'camisas', 'precio': 20, 'cantidad': 5},\n",
       " {'nombre': 'pantalones', 'precio': 25, 'cantidad': 10},\n",
       " {'nombre': 'calzoncillos', 'precio': 15, 'cantidad': 20},\n",
       " {'nombre': 'blusas', 'precio': 10, 'cantidad': 5}]"
      ]
     },
     "execution_count": 19,
     "metadata": {},
     "output_type": "execute_result"
    }
   ],
   "source": [
    "tienda.inventario"
   ]
  },
  {
   "cell_type": "code",
   "execution_count": 20,
   "metadata": {},
   "outputs": [
    {
     "name": "stdout",
     "output_type": "stream",
     "text": [
      "camisas, ha sido eliminado del inventario.\n"
     ]
    }
   ],
   "source": [
    "tienda.eliminar_producto('camisas')"
   ]
  },
  {
   "cell_type": "code",
   "execution_count": 21,
   "metadata": {},
   "outputs": [
    {
     "data": {
      "text/plain": [
       "[{'nombre': 'pantalones', 'precio': 25, 'cantidad': 10},\n",
       " {'nombre': 'calzoncillos', 'precio': 15, 'cantidad': 20},\n",
       " {'nombre': 'blusas', 'precio': 10, 'cantidad': 5}]"
      ]
     },
     "execution_count": 21,
     "metadata": {},
     "output_type": "execute_result"
    }
   ],
   "source": [
    "tienda.inventario"
   ]
  },
  {
   "cell_type": "code",
   "execution_count": 22,
   "metadata": {},
   "outputs": [
    {
     "name": "stdout",
     "output_type": "stream",
     "text": [
      "El producto 'chaquetas' no está en el inventario.\n"
     ]
    }
   ],
   "source": [
    "tienda.eliminar_producto('chaquetas')"
   ]
  },
  {
   "cell_type": "code",
   "execution_count": 23,
   "metadata": {},
   "outputs": [
    {
     "name": "stdout",
     "output_type": "stream",
     "text": [
      "El valor total del inventario es: 600 €.\n"
     ]
    }
   ],
   "source": [
    "tienda.calcular_valor_inventario()"
   ]
  },
  {
   "cell_type": "code",
   "execution_count": 24,
   "metadata": {},
   "outputs": [
    {
     "name": "stdout",
     "output_type": "stream",
     "text": [
      "Luis agregado.\n"
     ]
    }
   ],
   "source": [
    "tienda.agregar_cliente('Luis', 'luisvazquez@compras.es')"
   ]
  },
  {
   "cell_type": "code",
   "execution_count": 25,
   "metadata": {},
   "outputs": [
    {
     "data": {
      "text/plain": [
       "{'Luis': {'email': 'luisvazquez@compras.es', 'compras': []}}"
      ]
     },
     "execution_count": 25,
     "metadata": {},
     "output_type": "execute_result"
    }
   ],
   "source": [
    "tienda.clientes"
   ]
  },
  {
   "cell_type": "code",
   "execution_count": 26,
   "metadata": {},
   "outputs": [
    {
     "name": "stdout",
     "output_type": "stream",
     "text": [
      "el cliente con nombre Luis y email luisvazquez@compras.es ya existe.\n"
     ]
    }
   ],
   "source": [
    "tienda.agregar_cliente('Luis', 'luisvazquez@compras.es')"
   ]
  },
  {
   "cell_type": "code",
   "execution_count": 27,
   "metadata": {},
   "outputs": [
    {
     "data": {
      "text/plain": [
       "{'Luis': {'email': 'luisvazquez@compras.es', 'compras': []}}"
      ]
     },
     "execution_count": 27,
     "metadata": {},
     "output_type": "execute_result"
    }
   ],
   "source": [
    "tienda.clientes"
   ]
  },
  {
   "cell_type": "code",
   "execution_count": 28,
   "metadata": {},
   "outputs": [
    {
     "name": "stdout",
     "output_type": "stream",
     "text": [
      "el cliente con nombre Luis y email luisvazquez@compras.es ya existe.\n"
     ]
    }
   ],
   "source": [
    "tienda.agregar_cliente('Luis', 'luisvazquez@compras.es')"
   ]
  },
  {
   "cell_type": "code",
   "execution_count": 29,
   "metadata": {},
   "outputs": [
    {
     "name": "stdout",
     "output_type": "stream",
     "text": [
      "Laura agregado.\n"
     ]
    }
   ],
   "source": [
    "tienda.agregar_cliente('Laura', 'lauragarcia@compras.es')"
   ]
  },
  {
   "cell_type": "code",
   "execution_count": 30,
   "metadata": {},
   "outputs": [
    {
     "data": {
      "text/plain": [
       "{'Luis': {'email': 'luisvazquez@compras.es', 'compras': []},\n",
       " 'Laura': {'email': 'lauragarcia@compras.es', 'compras': []}}"
      ]
     },
     "execution_count": 30,
     "metadata": {},
     "output_type": "execute_result"
    }
   ],
   "source": [
    "tienda.clientes"
   ]
  },
  {
   "cell_type": "code",
   "execution_count": 31,
   "metadata": {},
   "outputs": [
    {
     "name": "stdout",
     "output_type": "stream",
     "text": [
      "el cliente con nombre Laura y email lauragarcia@compras.es ya existe.\n"
     ]
    }
   ],
   "source": [
    "tienda.agregar_cliente('Laura', 'lauragarcia@compras.es')"
   ]
  },
  {
   "cell_type": "code",
   "execution_count": 32,
   "metadata": {},
   "outputs": [
    {
     "name": "stdout",
     "output_type": "stream",
     "text": [
      "Daniel agregado.\n"
     ]
    }
   ],
   "source": [
    "tienda.agregar_cliente('Daniel', 'danielelvira@compras.es')"
   ]
  },
  {
   "cell_type": "code",
   "execution_count": 33,
   "metadata": {},
   "outputs": [
    {
     "name": "stdout",
     "output_type": "stream",
     "text": [
      "Pablo agregado.\n"
     ]
    }
   ],
   "source": [
    "tienda.agregar_cliente('Pablo', 'pablomartinez@compras.es')"
   ]
  },
  {
   "cell_type": "code",
   "execution_count": 34,
   "metadata": {},
   "outputs": [
    {
     "data": {
      "text/plain": [
       "{'Luis': {'email': 'luisvazquez@compras.es', 'compras': []},\n",
       " 'Laura': {'email': 'lauragarcia@compras.es', 'compras': []},\n",
       " 'Daniel': {'email': 'danielelvira@compras.es', 'compras': []},\n",
       " 'Pablo': {'email': 'pablomartinez@compras.es', 'compras': []}}"
      ]
     },
     "execution_count": 34,
     "metadata": {},
     "output_type": "execute_result"
    }
   ],
   "source": [
    "tienda.clientes"
   ]
  },
  {
   "cell_type": "code",
   "execution_count": 35,
   "metadata": {},
   "outputs": [
    {
     "name": "stdout",
     "output_type": "stream",
     "text": [
      "Nombre: Luis, Email: luisvazquez@compras.es\n",
      "Nombre: Laura, Email: lauragarcia@compras.es\n",
      "Nombre: Daniel, Email: danielelvira@compras.es\n",
      "Nombre: Pablo, Email: pablomartinez@compras.es\n"
     ]
    }
   ],
   "source": [
    "tienda.ver_clientes()"
   ]
  }
 ],
 "metadata": {
  "kernelspec": {
   "display_name": "base",
   "language": "python",
   "name": "python3"
  },
  "language_info": {
   "codemirror_mode": {
    "name": "ipython",
    "version": 3
   },
   "file_extension": ".py",
   "mimetype": "text/x-python",
   "name": "python",
   "nbconvert_exporter": "python",
   "pygments_lexer": "ipython3",
   "version": "3.12.7"
  }
 },
 "nbformat": 4,
 "nbformat_minor": 2
}
