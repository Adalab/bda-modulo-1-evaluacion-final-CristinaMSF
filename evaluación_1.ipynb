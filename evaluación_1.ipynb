{
 "cells": [
  {
   "cell_type": "markdown",
   "metadata": {},
   "source": [
    "ESTE VA A SER EL DEFINITIVO CRIS, VETE COPIANDO ETC Y LO VAS SUBIENDO."
   ]
  },
  {
   "cell_type": "code",
   "execution_count": null,
   "metadata": {},
   "outputs": [],
   "source": [
    "class TiendaOnline: \n",
    "\n",
    "    def __init__(self):\n",
    "        #Iniciamos la tienda con un inventario vacío. Al principio deberá ser una lista vacía. Ejemplo de como debería ser:\n",
    "\n",
    "        self.inventario = []\n",
    "        self.ventas_totales = 0    #Un atributo para llevar un registro de las ventas totales de la tienda. Inicializado con valor 0.\n",
    "        \n",
    "\n",
    "    def agregar_producto(self, producto, nombre, precio, cantidad):\n",
    "        #Agrega un producto al inventario o actualiza su cantidad si ya existe\n",
    "\n",
    "        for producto in self.inventario:\n",
    "            if producto['nombre'] == nombre:  # Si el producto ya existe, actualizamos su cantidad\n",
    "                producto['cantidad'] += cantidad\n",
    "                print(f\"Se han agregado {cantidad} unidades más de {nombre}. Ahora hay {producto['cantidad']}.\")\n",
    "                return\n",
    "\n",
    "        \n",
    "             #ya que deseas agregar el producto solo una vez.\n",
    "        nuevo_producto = {'nombre': nombre, 'precio': precio, 'cantidad': cantidad}\n",
    "        self.inventario.append(nuevo_producto)\n",
    "        print(f\"Producto {nombre} agregado correctamente.\")\n",
    "\n",
    "\n",
    "    def ver_inventario(self):\n",
    "         #Muestra el inventario de la tienda\n",
    "\n",
    "        for producto in self.inventario:\n",
    "            print(\"\\nInventario de la tienda:\")\n",
    "            print('Nombre:',producto['nombre'],'Precio:', producto['precio'],'Cantidad:',producto['cantidad'])\n",
    "            \n",
    "    \n",
    "    def buscar_producto(self, nombre): \n",
    "        #Busca un producto por su nombre y muestra sus detalles si existe.\n",
    "\n",
    "        for producto in self.inventario:\n",
    "            \n",
    "            if producto['nombre'] == nombre:   #Compara los nombres de los productos con el nombre proporcionado\n",
    "               #Si se encuentra el producto, imprime sus detalles.\n",
    "              print(f\"\\nProducto encontrado: Nombre: {producto['nombre']}, Precio: ${producto['precio']}, Cantidad: {producto['cantidad']}\")\n",
    "              return\n",
    "\n",
    "         #sino digo que no esta\n",
    "      \n",
    "        print(f\"\\nEl producto '{nombre}' no está en el inventario.\")\n",
    "\n",
    "    def actualizar_stock(self, nombre, cantidad):\n",
    "        \n",
    "        #Actualiza el stock de un producto en el inventario. Debe recibir el nombre del producto y la cantidad a agregar o quitar como parámetros.\n",
    "        #solo sumo por lo que si tengo que si mi nuevo recuento es 1 camisa y tengo 10 en el original, tengo que poner -9\n",
    "        for producto in self.inventario:\n",
    "            if producto['nombre'] == nombre:\n",
    "               producto['cantidad'] += cantidad    \n",
    "               print(f\"Stock actualizado para '{nombre}'. Nueva cantidad: {producto['cantidad']}\")    # Actualiza el stock\n",
    "               return \n",
    "                 \n",
    "        print(f\"El producto '{nombre}' no está en el inventario.\")\n",
    "\n",
    "\n",
    "    def eliminar_producto(self, nombre):\n",
    "        #Busco el producto por nombre con un for, bucando el nombre del producto en nombres, como antes.\n",
    "        #Elimino el producto del inventario si existe yendo al self y con un remove.\n",
    "        for producto in self.inventario:\n",
    "            if producto['nombre'] == nombre:\n",
    "               self.inventario.remove(producto)\n",
    "               print(f\"{nombre}, ha sido eliminado del inventario.\")    #Actualiza el inventario\n",
    "               return \n",
    "                 \n",
    "        print(f\"El producto '{nombre}' no está en el inventario.\")    #Sino está te lo hago saber\n",
    "\n",
    "    def calcular_valor_inventario(self):\n",
    "        total = sum([                                       #Hago una suma total del precio y la cantidad metiendo el for dentro\n",
    "            producto['precio']*producto['cantidad']\n",
    "            for producto in self.inventario\n",
    "        ])\n",
    "        print(f'El valor total del inventario es: {total} €')"
   ]
  },
  {
   "cell_type": "code",
   "execution_count": null,
   "metadata": {},
   "outputs": [],
   "source": []
  },
  {
   "cell_type": "code",
   "execution_count": null,
   "metadata": {},
   "outputs": [],
   "source": []
  },
  {
   "cell_type": "code",
   "execution_count": null,
   "metadata": {},
   "outputs": [],
   "source": []
  },
  {
   "cell_type": "code",
   "execution_count": null,
   "metadata": {},
   "outputs": [],
   "source": []
  },
  {
   "cell_type": "code",
   "execution_count": null,
   "metadata": {},
   "outputs": [],
   "source": []
  }
 ],
 "metadata": {
  "kernelspec": {
   "display_name": "base",
   "language": "python",
   "name": "python3"
  },
  "language_info": {
   "codemirror_mode": {
    "name": "ipython",
    "version": 3
   },
   "file_extension": ".py",
   "mimetype": "text/x-python",
   "name": "python",
   "nbconvert_exporter": "python",
   "pygments_lexer": "ipython3",
   "version": "3.12.7"
  }
 },
 "nbformat": 4,
 "nbformat_minor": 2
}
