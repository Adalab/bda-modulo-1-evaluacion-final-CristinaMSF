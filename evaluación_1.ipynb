{
 "cells": [
  {
   "cell_type": "markdown",
   "metadata": {},
   "source": [
    "ESTE VA A SER EL DEFINITIVO CRIS, VETE COPIANDO ETC Y LO VAS SUBIENDO."
   ]
  },
  {
   "cell_type": "code",
   "execution_count": null,
   "metadata": {},
   "outputs": [],
   "source": [
    "class TiendaOnline: \n",
    "\n",
    "    def __init__(self):\n",
    "    \n",
    "        #Iniciamos la tienda con un inventario vacío\n",
    "        self.inventario = {}\n",
    "        self.ventas_totales = 0\n",
    "        \n",
    "    def agregar_producto(self, nombre, precio, cantidad):\n",
    "        #Agrega un producto al inventario o actualiza su cantidad si ya existe.\n",
    "        if nombre in self.inventario:  # Verificamos si el producto ya existe\n",
    "            self.inventario[nombre]['cantidad'] += cantidad  # Si ya existe, actualizamos la cantidad\n",
    "            print(f\"Se han agregado {cantidad} unidades más de {nombre}. Ahora hay {self.inventario[nombre]['cantidad']}.\")\n",
    "\n",
    "        else:\n",
    "            self.inventario[nombre] = {'nombre': nombre, 'precio': precio, 'cantidad': cantidad}  # Agregar producto nuevo\n",
    "            print(f\"Producto {nombre} agregado correctamente.\")\n",
    "    \n",
    "    def ver_inventario(self):\n",
    "     #Muestra el inventario de la tienda.\n",
    "        if not self.inventario: \n",
    "            print('El inventario esta vacio.')\n",
    "\n",
    "        else:\n",
    "            print(\"\\nInventario de la tienda:\")\n",
    "\n",
    "            for producto in self.inventario.values():\n",
    "                print(f\"Nombre: {producto['nombre']}, Precio: ${producto['precio']}, Cantidad: {producto['cantidad']}\")\n",
    "\n",
    "\n",
    "    def buscar_producto(self, nombre): \n",
    "        #Busca un producto por su nombre y muestra sus detalles si existe.\n",
    "\n",
    "        for producto in self.inventario.values():\n",
    "            \n",
    "            print(f\"Nombre: {producto['nombre']}, Precio: ${producto['precio']}, Cantidad: {producto['cantidad']}\")\n",
    "\n",
    "        #Compara los nombres de los productos con el nombre proporcionado\n",
    "            if nombre in self.inventario:\n",
    "               producto = self.inventario[nombre] #Si se encuentra el producto, imprime sus detalles.\n",
    "               print(f\"\\nProducto encontrado: Nombre: {producto['nombre']}, Precio: ${producto['precio']}, Cantidad: {producto['cantidad']}\")\n",
    "\n",
    "         #sino digo que no esta\n",
    "            else:\n",
    "               print(f\"\\nEl producto '{nombre}' no está en el inventario.\")\n",
    "\n",
    "    \n",
    "    def actualizar_stock(self, nombre, cantidad):\n"
   ]
  }
 ],
 "metadata": {
  "kernelspec": {
   "display_name": "base",
   "language": "python",
   "name": "python3"
  },
  "language_info": {
   "name": "python",
   "version": "3.12.7"
  }
 },
 "nbformat": 4,
 "nbformat_minor": 2
}
